{
 "cells": [
  {
   "cell_type": "code",
   "execution_count": 22,
   "id": "dfe31276-81eb-433b-bbc5-001acad7bc00",
   "metadata": {},
   "outputs": [],
   "source": [
    "import pandas as pd\n",
    "\n",
    "import warnings\n",
    "warnings.filterwarnings(\"ignore\")\n",
    "\n",
    "# import the necessary package\n",
    "from adbench.datasets.data_generator import DataGenerator\n",
    "from adbench.myutils import Utils\n",
    "\n",
    "datagenerator = DataGenerator()\n",
    "utils = Utils()"
   ]
  },
  {
   "cell_type": "code",
   "execution_count": 26,
   "id": "a855e130-824d-4fb0-9045-350ee62f3bcb",
   "metadata": {},
   "outputs": [],
   "source": [
    "from adbench.baseline.PyOD import PYOD\n",
    "from adbench.baseline.DevNet.run import DevNet\n",
    "from adbench.baseline.Supervised import supervised\n",
    "from adbench.baseline.REPEN.run import REPEN\n",
    "from adbench.baseline.DevNet.run import DevNet\n",
    "from adbench.baseline.PReNet.run import PReNet\n",
    "from adbench.baseline.FEAWAD.run import FEAWAD\n",
    "from adbench.baseline.DAGMM.run import DAGMM # Unsup\n",
    "from adbench.baseline.DeepSAD.src.run import DeepSAD # Semi\n",
    "\n",
    "\n",
    "# model_dict = {'DAGMM':DAGMM, 'COPOD': PYOD, 'ECOD': PYOD, 'XGBOD':PYOD, 'DeepSAD':DeepSAD, 'DevNet':DevNet, 'PReNet':PReNet, 'FEAWAD':FEAWAD}\n",
    "\n",
    "# GANomaly DeepSAD REPEN DevNet PReNet FEAWAD XGBOD NB SVM MLP ResNet FTTrans\n",
    "# former RF LGB XGB CatB\n",
    "\n",
    "# dataset and model list / dict\n",
    "dataset_list = ['1_ALOI']\n",
    "model_dict = {'XGBOD':PYOD, 'CatB': supervised}\n",
    "\n",
    "# save the results\n",
    "df_AUCROC = pd.DataFrame(data=None, index=dataset_list, columns = model_dict.keys())\n",
    "df_AUCPR = pd.DataFrame(data=None, index=dataset_list, columns = model_dict.keys())"
   ]
  },
  {
   "cell_type": "code",
   "execution_count": null,
   "id": "b83ff9ab-5579-452b-a8a1-9bccbe466902",
   "metadata": {},
   "outputs": [
    {
     "name": "stdout",
     "output_type": "stream",
     "text": [
      "subsampling for dataset 1_ALOI...\n",
      "current noise type: None\n",
      "{'Samples': 10000, 'Features': 27, 'Anomalies': 302, 'Anomalies Ratio(%)': 3.02}\n",
      "best param: None\n"
     ]
    }
   ],
   "source": [
    "# seed for reproducible results\n",
    "seed = 42\n",
    "\n",
    "for dataset in dataset_list:\n",
    "    '''\n",
    "    la: ratio of labeled anomalies, from 0.0 to 1.0\n",
    "    realistic_synthetic_mode: types of synthetic anomalies, can be local, global, dependency or cluster\n",
    "    noise_type: inject data noises for testing model robustness, can be duplicated_anomalies, irrelevant_features or label_contamination\n",
    "    '''\n",
    "    \n",
    "    # import the dataset\n",
    "    datagenerator.dataset = dataset # specify the dataset name\n",
    "    data = datagenerator.generator(la=0.1, realistic_synthetic_mode=None, noise_type=None) # only 10% labeled anomalies are available\n",
    "    \n",
    "    for name, clf in model_dict.items():\n",
    "        # model initialization\n",
    "        if name == 'DevNet':\n",
    "            clf = clf(seed=seed, model_name=name, save_suffix='test') # DevNet use early stopping to save the model parameter\n",
    "        else:\n",
    "            clf = clf(seed=seed, model_name=name)\n",
    "        \n",
    "        # training, for unsupervised models the y label will be discarded\n",
    "        clf = clf.fit(X_train=data['X_train'], y_train=data['y_train'])\n",
    "        \n",
    "        # output predicted anomaly score on testing set\n",
    "        score = clf.predict_score(data['X_test'])\n",
    "\n",
    "        # evaluation\n",
    "        result = utils.metric(y_true=data['y_test'], y_score=score)\n",
    "        \n",
    "        # save results\n",
    "        df_AUCROC.loc[dataset, name] = result['aucroc']\n",
    "        df_AUCPR.loc[dataset, name] = result['aucpr']"
   ]
  },
  {
   "cell_type": "code",
   "execution_count": 11,
   "id": "4467ecd7-8490-456c-8759-236f71958b35",
   "metadata": {},
   "outputs": [
    {
     "data": {
      "text/html": [
       "<div>\n",
       "<style scoped>\n",
       "    .dataframe tbody tr th:only-of-type {\n",
       "        vertical-align: middle;\n",
       "    }\n",
       "\n",
       "    .dataframe tbody tr th {\n",
       "        vertical-align: top;\n",
       "    }\n",
       "\n",
       "    .dataframe thead th {\n",
       "        text-align: right;\n",
       "    }\n",
       "</style>\n",
       "<table border=\"1\" class=\"dataframe\">\n",
       "  <thead>\n",
       "    <tr style=\"text-align: right;\">\n",
       "      <th></th>\n",
       "      <th>XGBOD</th>\n",
       "      <th>CatB</th>\n",
       "    </tr>\n",
       "  </thead>\n",
       "  <tbody>\n",
       "    <tr>\n",
       "      <th>1_ALOI</th>\n",
       "      <td>0.721894</td>\n",
       "      <td>0.510126</td>\n",
       "    </tr>\n",
       "  </tbody>\n",
       "</table>\n",
       "</div>"
      ],
      "text/plain": [
       "           XGBOD      CatB\n",
       "1_ALOI  0.721894  0.510126"
      ]
     },
     "execution_count": 11,
     "metadata": {},
     "output_type": "execute_result"
    }
   ],
   "source": [
    "df_AUCROC"
   ]
  },
  {
   "cell_type": "code",
   "execution_count": 12,
   "id": "b7f02a1f-bc34-403e-9d89-6fb8f304f4ea",
   "metadata": {},
   "outputs": [
    {
     "data": {
      "text/html": [
       "<div>\n",
       "<style scoped>\n",
       "    .dataframe tbody tr th:only-of-type {\n",
       "        vertical-align: middle;\n",
       "    }\n",
       "\n",
       "    .dataframe tbody tr th {\n",
       "        vertical-align: top;\n",
       "    }\n",
       "\n",
       "    .dataframe thead th {\n",
       "        text-align: right;\n",
       "    }\n",
       "</style>\n",
       "<table border=\"1\" class=\"dataframe\">\n",
       "  <thead>\n",
       "    <tr style=\"text-align: right;\">\n",
       "      <th></th>\n",
       "      <th>XGBOD</th>\n",
       "      <th>CatB</th>\n",
       "    </tr>\n",
       "  </thead>\n",
       "  <tbody>\n",
       "    <tr>\n",
       "      <th>1_ALOI</th>\n",
       "      <td>0.067865</td>\n",
       "      <td>0.03411</td>\n",
       "    </tr>\n",
       "  </tbody>\n",
       "</table>\n",
       "</div>"
      ],
      "text/plain": [
       "           XGBOD     CatB\n",
       "1_ALOI  0.067865  0.03411"
      ]
     },
     "execution_count": 12,
     "metadata": {},
     "output_type": "execute_result"
    }
   ],
   "source": [
    "df_AUCPR"
   ]
  }
 ],
 "metadata": {
  "kernelspec": {
   "display_name": "Python (my_custom_abdench_env)",
   "language": "python",
   "name": "adbench_env"
  },
  "language_info": {
   "codemirror_mode": {
    "name": "ipython",
    "version": 3
   },
   "file_extension": ".py",
   "mimetype": "text/x-python",
   "name": "python",
   "nbconvert_exporter": "python",
   "pygments_lexer": "ipython3",
   "version": "3.9.11"
  }
 },
 "nbformat": 4,
 "nbformat_minor": 5
}
